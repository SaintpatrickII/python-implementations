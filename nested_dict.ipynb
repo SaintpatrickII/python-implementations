{
 "cells": [
  {
   "cell_type": "markdown",
   "metadata": {},
   "source": [
    "So I had a dreaded interview question utilising this nested dictionary & had a breakdown trying to solve it the first time, here ill breakdown thought process on how to approach nested dictionaries"
   ]
  },
  {
   "cell_type": "code",
   "execution_count": 36,
   "metadata": {},
   "outputs": [],
   "source": [
    "nested_d = {\"type\": \"deal\",\n",
    "     \"legs\": [\n",
    "         {\n",
    "             \"type\": \"deal\",\n",
    "             \"legs\": [\n",
    "                 {\n",
    "                     \"type\": \"leg\",\n",
    "                     \"amount\": \"140\",\n",
    "                     \"currency\": \"EUR\"\n",
    "                 },\n",
    "                 {\n",
    "                     \"type\": \"leg\",\n",
    "                     \"amount\": 35,\n",
    "                     \"currency\": \"USD\"\n",
    "                 },\n",
    "                 {\n",
    "                     \"type\": \"deal\",\n",
    "                     \"legs\": [\n",
    "                         {\n",
    "                             \"type\": \"leg\",\n",
    "                             \"amount\": \"80\",\n",
    "                             \"currency\": \"GBP\"\n",
    "                         }\n",
    "                     ]\n",
    "                 }\n",
    "             ]\n",
    "         },\n",
    "         {\n",
    "             \"type\": \"leg\",\n",
    "             \"amount\": 65,\n",
    "             \"currency\": \"USD\"\n",
    "         },\n",
    "         {\n",
    "             \"type\": \"leg\",\n",
    "             \"amount\": 60,\n",
    "             \"currency\": \"EUR\"\n",
    "         }\n",
    "     ]\n",
    "     }"
   ]
  },
  {
   "cell_type": "markdown",
   "metadata": {},
   "source": [
    "Above is the nested dictionary, as we can see it looks simple, but traversal actually proves to be more difficult than at first glance.\n",
    "When aproaching nested dictinaries it is imporant to see what level we are at in the beginning, we can see this nested dictionary starts as well... a dictionary so lets see the keys we have for the first level\n"
   ]
  },
  {
   "cell_type": "code",
   "execution_count": 37,
   "metadata": {},
   "outputs": [
    {
     "name": "stdout",
     "output_type": "stream",
     "text": [
      "type\n",
      "legs\n"
     ]
    }
   ],
   "source": [
    "for k in nested_d.keys():\n",
    "    print(k)"
   ]
  },
  {
   "cell_type": "markdown",
   "metadata": {},
   "source": [
    "Ok so we can see the outemost level of the nested dictionary only consists of two keys, 'type' which is the first key & 'legs' which contains all the information we want"
   ]
  },
  {
   "cell_type": "markdown",
   "metadata": {},
   "source": [
    "Now we need to flatten this nested dictionary so that all the information is stored on a singular level, to do this we could use a 'dictionary walk'\n",
    "by this i mean we are going to recursively walk through the nested dictionary, adding key value pairs to a new flat dictionary, if we find a dictionary as a value, we recursively move through that dictionary, & if we find a list we recursively walk through all its values"
   ]
  },
  {
   "cell_type": "code",
   "execution_count": 38,
   "metadata": {},
   "outputs": [
    {
     "name": "stdout",
     "output_type": "stream",
     "text": [
      "[{'type', 'deal'}, {'type', 'deal'}, {'type', 'leg'}, {'amount', '140'}, {'EUR', 'currency'}, {'type', 'leg'}, {35, 'amount'}, {'USD', 'currency'}, {'type', 'deal'}, {'type', 'leg'}, {'amount', '80'}, {'GBP', 'currency'}, {'type', 'leg'}, {65, 'amount'}, {'USD', 'currency'}, {'type', 'leg'}, {'amount', 60}, {'EUR', 'currency'}]\n"
     ]
    }
   ],
   "source": [
    "start = nested_d\n",
    "curr_list = []\n",
    "\n",
    "\n",
    "def dict_walk(d):\n",
    "    \n",
    "    # print('-' * 10)\n",
    "\n",
    "    if type(d) == dict:\n",
    "        for k, v in d.items():\n",
    "            if type(v) == dict or type(v) == list:\n",
    "                dict_walk(v)\n",
    "            else:\n",
    "                curr_list.append({k, v})\n",
    "    elif type(d) == list:\n",
    "        for i in d:\n",
    "            dict_walk(i)\n",
    "\n",
    "\n",
    "test = dict_walk(start)\n",
    "print(curr_list)\n"
   ]
  },
  {
   "cell_type": "code",
   "execution_count": 39,
   "metadata": {},
   "outputs": [
    {
     "name": "stdout",
     "output_type": "stream",
     "text": [
      "{'type', 'deal'}\n",
      "{'type', 'deal'}\n",
      "{'type', 'leg'}\n",
      "{'amount', '140'}\n",
      "{'EUR', 'currency'}\n",
      "{'type', 'leg'}\n",
      "{35, 'amount'}\n",
      "{'USD', 'currency'}\n",
      "{'type', 'deal'}\n",
      "{'type', 'leg'}\n",
      "{'amount', '80'}\n",
      "{'GBP', 'currency'}\n",
      "{'type', 'leg'}\n",
      "{65, 'amount'}\n",
      "{'USD', 'currency'}\n",
      "{'type', 'leg'}\n",
      "{'amount', 60}\n",
      "{'EUR', 'currency'}\n",
      "{'default': 'yes'}\n"
     ]
    }
   ],
   "source": [
    "default = {'default':'yes'}\n",
    "curr_list.append(default)\n",
    "for k in curr_list:\n",
    "    print(k)\n"
   ]
  },
  {
   "cell_type": "code",
   "execution_count": null,
   "metadata": {},
   "outputs": [],
   "source": [
    "for k, v in "
   ]
  }
 ],
 "metadata": {
  "interpreter": {
   "hash": "e510884cfc2d161432d212cfd768f3de9a805e4599418f66cff32f16447a06c3"
  },
  "kernelspec": {
   "display_name": "Python 3.8.8 ('base')",
   "language": "python",
   "name": "python3"
  },
  "language_info": {
   "codemirror_mode": {
    "name": "ipython",
    "version": 3
   },
   "file_extension": ".py",
   "mimetype": "text/x-python",
   "name": "python",
   "nbconvert_exporter": "python",
   "pygments_lexer": "ipython3",
   "version": "3.8.8"
  },
  "orig_nbformat": 4
 },
 "nbformat": 4,
 "nbformat_minor": 2
}
